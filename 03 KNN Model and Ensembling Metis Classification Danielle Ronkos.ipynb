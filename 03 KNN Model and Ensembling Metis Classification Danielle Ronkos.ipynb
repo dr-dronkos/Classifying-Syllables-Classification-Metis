{
 "cells": [
  {
   "cell_type": "markdown",
   "id": "05e732d1",
   "metadata": {},
   "source": [
    "This notebook contains code for:\n",
    "\n",
    "1. KNN model classifying syllables as either Gurung or Nepali with some parameter tweaking\n",
    "2. Voting Ensemble model using KNN, Decision Tree, and Logistic Regression models\n",
    "3. Stacking Ensemble model using KNN, Decision Tree, and Logistic Regression models (meta model is Logistic Regression)\n",
    "\n",
    "All models include cross-validation with 5 folds and a confusion matrix with a plot."
   ]
  },
  {
   "cell_type": "markdown",
   "id": "57847638",
   "metadata": {},
   "source": [
    "## Import Tools"
   ]
  },
  {
   "cell_type": "code",
   "execution_count": 85,
   "id": "f0c4f011",
   "metadata": {},
   "outputs": [],
   "source": [
    "import pandas as pd\n",
    "import numpy as np\n",
    "import seaborn as sns\n",
    "from sklearn.compose import ColumnTransformer\n",
    "from sklearn.pipeline import Pipeline\n",
    "from sklearn.preprocessing import StandardScaler, OneHotEncoder\n",
    "from sklearn.model_selection import train_test_split, GridSearchCV\n",
    "from sklearn.linear_model import LogisticRegression\n",
    "from sklearn.metrics import confusion_matrix, ConfusionMatrixDisplay\n",
    "from sklearn.impute import SimpleImputer\n",
    "from sklearn.neighbors import KNeighborsClassifier\n",
    "from sklearn.tree import DecisionTreeClassifier\n",
    "from sklearn.ensemble import VotingClassifier\n",
    "from sklearn.ensemble import StackingClassifier\n",
    "from sklearn.model_selection import cross_val_score\n",
    "import matplotlib.pyplot as plt"
   ]
  },
  {
   "cell_type": "markdown",
   "id": "97600a17",
   "metadata": {},
   "source": [
    "## Import Pickled Dataframe of Nepali and Gurung Syllables\n",
    "Data includes 5 speakers of each language saying ~92 words 3x each."
   ]
  },
  {
   "cell_type": "code",
   "execution_count": 86,
   "id": "6a41f647",
   "metadata": {},
   "outputs": [
    {
     "data": {
      "text/html": [
       "<div>\n",
       "<style scoped>\n",
       "    .dataframe tbody tr th:only-of-type {\n",
       "        vertical-align: middle;\n",
       "    }\n",
       "\n",
       "    .dataframe tbody tr th {\n",
       "        vertical-align: top;\n",
       "    }\n",
       "\n",
       "    .dataframe thead th {\n",
       "        text-align: right;\n",
       "    }\n",
       "</style>\n",
       "<table border=\"1\" class=\"dataframe\">\n",
       "  <thead>\n",
       "    <tr style=\"text-align: right;\">\n",
       "      <th></th>\n",
       "      <th>language</th>\n",
       "      <th>speaker</th>\n",
       "      <th>time</th>\n",
       "      <th>word</th>\n",
       "      <th>phoneme</th>\n",
       "      <th>duration</th>\n",
       "      <th>F1</th>\n",
       "      <th>F2</th>\n",
       "      <th>F3</th>\n",
       "      <th>nasal</th>\n",
       "      <th>syllable_number</th>\n",
       "      <th>onset_c_place</th>\n",
       "      <th>onset_c_manner</th>\n",
       "      <th>laryngeal</th>\n",
       "      <th>coda</th>\n",
       "    </tr>\n",
       "  </thead>\n",
       "  <tbody>\n",
       "    <tr>\n",
       "      <th>0</th>\n",
       "      <td>Nepali</td>\n",
       "      <td>1</td>\n",
       "      <td>8.422885</td>\n",
       "      <td>one</td>\n",
       "      <td>e</td>\n",
       "      <td>0.340285</td>\n",
       "      <td>570.820088</td>\n",
       "      <td>2773.608460</td>\n",
       "      <td>3421.056785</td>\n",
       "      <td>0</td>\n",
       "      <td>1</td>\n",
       "      <td>none</td>\n",
       "      <td>none</td>\n",
       "      <td>0</td>\n",
       "      <td>1</td>\n",
       "    </tr>\n",
       "    <tr>\n",
       "      <th>1</th>\n",
       "      <td>Nepali</td>\n",
       "      <td>1</td>\n",
       "      <td>9.794364</td>\n",
       "      <td>one</td>\n",
       "      <td>e</td>\n",
       "      <td>0.363759</td>\n",
       "      <td>555.260091</td>\n",
       "      <td>2818.847185</td>\n",
       "      <td>3332.194967</td>\n",
       "      <td>0</td>\n",
       "      <td>1</td>\n",
       "      <td>none</td>\n",
       "      <td>none</td>\n",
       "      <td>0</td>\n",
       "      <td>1</td>\n",
       "    </tr>\n",
       "    <tr>\n",
       "      <th>2</th>\n",
       "      <td>Nepali</td>\n",
       "      <td>1</td>\n",
       "      <td>10.912042</td>\n",
       "      <td>one</td>\n",
       "      <td>e</td>\n",
       "      <td>0.179386</td>\n",
       "      <td>522.733404</td>\n",
       "      <td>2736.485673</td>\n",
       "      <td>3301.971337</td>\n",
       "      <td>0</td>\n",
       "      <td>1</td>\n",
       "      <td>none</td>\n",
       "      <td>none</td>\n",
       "      <td>0</td>\n",
       "      <td>1</td>\n",
       "    </tr>\n",
       "    <tr>\n",
       "      <th>3</th>\n",
       "      <td>Nepali</td>\n",
       "      <td>1</td>\n",
       "      <td>20.259035</td>\n",
       "      <td>two</td>\n",
       "      <td>i</td>\n",
       "      <td>0.365618</td>\n",
       "      <td>449.909150</td>\n",
       "      <td>2762.010722</td>\n",
       "      <td>3349.317399</td>\n",
       "      <td>0</td>\n",
       "      <td>1</td>\n",
       "      <td>labial</td>\n",
       "      <td>sonorant</td>\n",
       "      <td>0</td>\n",
       "      <td>1</td>\n",
       "    </tr>\n",
       "    <tr>\n",
       "      <th>4</th>\n",
       "      <td>Nepali</td>\n",
       "      <td>1</td>\n",
       "      <td>21.365301</td>\n",
       "      <td>two</td>\n",
       "      <td>i</td>\n",
       "      <td>0.360141</td>\n",
       "      <td>388.329390</td>\n",
       "      <td>2799.204021</td>\n",
       "      <td>3345.667876</td>\n",
       "      <td>0</td>\n",
       "      <td>1</td>\n",
       "      <td>labial</td>\n",
       "      <td>sonorant</td>\n",
       "      <td>0</td>\n",
       "      <td>1</td>\n",
       "    </tr>\n",
       "  </tbody>\n",
       "</table>\n",
       "</div>"
      ],
      "text/plain": [
       "  language  speaker       time word phoneme  duration          F1  \\\n",
       "0   Nepali        1   8.422885  one       e  0.340285  570.820088   \n",
       "1   Nepali        1   9.794364  one       e  0.363759  555.260091   \n",
       "2   Nepali        1  10.912042  one       e  0.179386  522.733404   \n",
       "3   Nepali        1  20.259035  two       i  0.365618  449.909150   \n",
       "4   Nepali        1  21.365301  two       i  0.360141  388.329390   \n",
       "\n",
       "            F2           F3  nasal  syllable_number onset_c_place  \\\n",
       "0  2773.608460  3421.056785      0                1          none   \n",
       "1  2818.847185  3332.194967      0                1          none   \n",
       "2  2736.485673  3301.971337      0                1          none   \n",
       "3  2762.010722  3349.317399      0                1        labial   \n",
       "4  2799.204021  3345.667876      0                1        labial   \n",
       "\n",
       "  onset_c_manner  laryngeal  coda  \n",
       "0           none          0     1  \n",
       "1           none          0     1  \n",
       "2           none          0     1  \n",
       "3       sonorant          0     1  \n",
       "4       sonorant          0     1  "
      ]
     },
     "execution_count": 86,
     "metadata": {},
     "output_type": "execute_result"
    }
   ],
   "source": [
    "df = pd.read_pickle('all_gur_and_nep_data.csv')\n",
    "df.head()"
   ]
  },
  {
   "cell_type": "code",
   "execution_count": 87,
   "id": "7af19920",
   "metadata": {},
   "outputs": [
    {
     "data": {
      "text/plain": [
       "(5099, 15)"
      ]
     },
     "execution_count": 87,
     "metadata": {},
     "output_type": "execute_result"
    }
   ],
   "source": [
    "df.shape"
   ]
  },
  {
   "cell_type": "code",
   "execution_count": 88,
   "id": "749a2a8e",
   "metadata": {},
   "outputs": [
    {
     "data": {
      "text/plain": [
       "Nepali    2786\n",
       "Gurung    2313\n",
       "Name: language, dtype: int64"
      ]
     },
     "execution_count": 88,
     "metadata": {},
     "output_type": "execute_result"
    }
   ],
   "source": [
    "df.language.value_counts()"
   ]
  },
  {
   "cell_type": "markdown",
   "id": "2248db1f",
   "metadata": {},
   "source": [
    "## 1. KNN Model\n",
    "Default parameters are the most accurate -- 5 neighbors and Euclidean distance. The good accuracy of this model is expected -- in linguistics, theories of categorical speech perception are actually quite similar to KNN models. Basically, each sound in a language is theorized to be represented as a cluster, the boundaries of which have been determined by exposure to many instances of that sound produced by many different speakers in many different environments. Following this model, when new input is recieved, it gets grouped with the cluster it is 'cloesest' to or shares the most features with, and thus is percieved as an instance of the sound that cluster represents."
   ]
  },
  {
   "cell_type": "code",
   "execution_count": 89,
   "id": "0459474d",
   "metadata": {},
   "outputs": [
    {
     "name": "stdout",
     "output_type": "stream",
     "text": [
      "cross validation scores: [0.89583333 0.91176471 0.89460784 0.8872549  0.8797546 ]\n",
      "model score: 0.917\n"
     ]
    }
   ],
   "source": [
    "##KNeighbors\n",
    "## Adapted from https://scikit-learn.org/stable/auto_examples/compose/plot_column_transformer_mixed_types.html\n",
    "## Code creates a pipline to scale the numeric data and one-hot-encode the categorical data.\n",
    "numeric_features = [\"duration\", \"F1\", \"F2\", \"F3\"]\n",
    "numeric_transformer = Pipeline(steps=[(\"imputer\", SimpleImputer(strategy=\"median\")),(\"scaler\", StandardScaler())])\n",
    "\n",
    "categorical_features = [\"nasal\", \"syllable_number\", \"onset_c_place\", \"onset_c_manner\", \"laryngeal\", \"coda\"]\n",
    "categorical_transformer = OneHotEncoder(handle_unknown=\"ignore\")\n",
    "\n",
    "preprocessor = ColumnTransformer(\n",
    "    transformers =[\n",
    "        (\"num\", numeric_transformer, numeric_features),\n",
    "        (\"cat\", categorical_transformer, categorical_features)\n",
    "    ])\n",
    "\n",
    "## 5 neighbors, Euclidian distance\n",
    "clf = Pipeline(\n",
    "    steps=[(\"preprocessor\", preprocessor), (\"classifier\", KNeighborsClassifier())])\n",
    "\n",
    "## Manhattan distance, performed less well\n",
    "#clf = Pipeline(\n",
    "   # steps=[(\"preprocessor\", preprocessor), (\"classifier\", KNeighborsClassifier(p=1))])\n",
    "\n",
    "## Try fewer neighbors, performed less well\n",
    "#clf = Pipeline(\n",
    "  #  steps=[(\"preprocessor\", preprocessor), (\"classifier\", KNeighborsClassifier(n_neighbors=3))])\n",
    "\n",
    "## Try more neighbors, performed less well\n",
    "#clf = Pipeline(\n",
    "   # steps=[(\"preprocessor\", preprocessor), (\"classifier\", KNeighborsClassifier(n_neighbors=7))])\n",
    "\n",
    "X_train, X_test, y_train, y_test = train_test_split(X, y, test_size=0.2, random_state=42)\n",
    "\n",
    "clf.fit(X_train, y_train)\n",
    "scores = cross_val_score(clf, X_train, y_train, cv=5)\n",
    "print(\"cross validation scores:\", scores)\n",
    "print(\"model score: %.3f\" % clf.score(X_test, y_test))"
   ]
  },
  {
   "cell_type": "code",
   "execution_count": 90,
   "id": "b2de3925",
   "metadata": {},
   "outputs": [
    {
     "data": {
      "text/plain": [
       "array([[396,  51],\n",
       "       [ 34, 539]])"
      ]
     },
     "execution_count": 90,
     "metadata": {},
     "output_type": "execute_result"
    }
   ],
   "source": [
    "## Confusion Matrix\n",
    "y_pred = clf.predict(X_test)\n",
    "confusion_matrix(y_test, y_pred)"
   ]
  },
  {
   "cell_type": "code",
   "execution_count": 91,
   "id": "1f2edf24",
   "metadata": {},
   "outputs": [
    {
     "data": {
      "image/png": "[encoded data removed]",
      "text/plain": [
       "<Figure size 432x288 with 2 Axes>"
      ]
     },
     "metadata": {
      "needs_background": "light"
     },
     "output_type": "display_data"
    }
   ],
   "source": [
    "## Plot confusion matrix, code adapted from example here: https://scikit-learn.org/stable/modules/generated/sklearn.metrics.plot_confusion_matrix.html\n",
    "predictions = clf.predict(X_test)\n",
    "cm = confusion_matrix(y_test, predictions, labels=clf.classes_)\n",
    "disp = ConfusionMatrixDisplay(confusion_matrix=cm, display_labels=clf.classes_)\n",
    "disp.plot(cmap=plt.cm.Blues)\n",
    "plt.show()"
   ]
  },
  {
   "cell_type": "markdown",
   "id": "9216ef81",
   "metadata": {},
   "source": [
    "## 2. Voting Ensemble Model"
   ]
  },
  {
   "cell_type": "code",
   "execution_count": 92,
   "id": "3241b923",
   "metadata": {},
   "outputs": [],
   "source": [
    "knn = KNeighborsClassifier()\n",
    "dt = DecisionTreeClassifier()\n",
    "lr = LogisticRegression(C=1000)"
   ]
  },
  {
   "cell_type": "code",
   "execution_count": 93,
   "id": "aef7fb3f",
   "metadata": {},
   "outputs": [],
   "source": [
    "model_list = [('knn', knn), ('tree', dt), ('log_reg', lr)]"
   ]
  },
  {
   "cell_type": "code",
   "execution_count": 94,
   "id": "8249a674",
   "metadata": {},
   "outputs": [
    {
     "name": "stdout",
     "output_type": "stream",
     "text": [
      "cross validation scores: [0.88357843 0.91053922 0.88970588 0.89093137 0.87730061]\n",
      "model score: 0.899\n"
     ]
    }
   ],
   "source": [
    "## Voting\n",
    "## Adapted from https://scikit-learn.org/stable/auto_examples/compose/plot_column_transformer_mixed_types.html\n",
    "## Code creates a pipline to scale the numeric data and one-hot-encode the categorical data.\n",
    "numeric_features = [\"duration\", \"F1\", \"F2\", \"F3\"]\n",
    "numeric_transformer = Pipeline(steps=[(\"imputer\", SimpleImputer(strategy=\"median\")),(\"scaler\", StandardScaler())])\n",
    "\n",
    "categorical_features = [\"nasal\", \"syllable_number\", \"onset_c_place\", \"onset_c_manner\", \"laryngeal\", \"coda\"]\n",
    "categorical_transformer = OneHotEncoder(handle_unknown=\"ignore\")\n",
    "\n",
    "preprocessor = ColumnTransformer(\n",
    "    transformers =[\n",
    "        (\"num\", numeric_transformer, numeric_features),\n",
    "        (\"cat\", categorical_transformer, categorical_features)\n",
    "    ])\n",
    "\n",
    "clf = Pipeline(\n",
    "    steps=[(\"preprocessor\", preprocessor), (\"classifier\", VotingClassifier(estimators=model_list, voting='hard', weights=None))])\n",
    "\n",
    "X_train, X_test, y_train, y_test = train_test_split(X, y, test_size=0.2, random_state=42)\n",
    "\n",
    "clf.fit(X_train, y_train)\n",
    "scores = cross_val_score(clf, X_train, y_train, cv=5)\n",
    "print(\"cross validation scores:\", scores)\n",
    "print(\"model score: %.3f\" % clf.score(X_test, y_test))"
   ]
  },
  {
   "cell_type": "code",
   "execution_count": 95,
   "id": "515dd3ba",
   "metadata": {},
   "outputs": [
    {
     "data": {
      "text/plain": [
       "array([[385,  62],\n",
       "       [ 41, 532]])"
      ]
     },
     "execution_count": 95,
     "metadata": {},
     "output_type": "execute_result"
    }
   ],
   "source": [
    "## Confusion Matrix\n",
    "y_pred = clf.predict(X_test)\n",
    "confusion_matrix(y_test, y_pred)"
   ]
  },
  {
   "cell_type": "code",
   "execution_count": 96,
   "id": "f46c6984",
   "metadata": {},
   "outputs": [
    {
     "data": {
      "image/png": "[encoded data removed]",
      "text/plain": [
       "<Figure size 432x288 with 2 Axes>"
      ]
     },
     "metadata": {
      "needs_background": "light"
     },
     "output_type": "display_data"
    }
   ],
   "source": [
    "## Plot confusion matrix, code adapted from example here: https://scikit-learn.org/stable/modules/generated/sklearn.metrics.plot_confusion_matrix.html\n",
    "predictions = clf.predict(X_test)\n",
    "cm = confusion_matrix(y_test, predictions, labels=clf.classes_)\n",
    "disp = ConfusionMatrixDisplay(confusion_matrix=cm, display_labels=clf.classes_)\n",
    "disp.plot(cmap=plt.cm.Blues)\n",
    "plt.show()"
   ]
  },
  {
   "cell_type": "markdown",
   "id": "020eb4a8",
   "metadata": {},
   "source": [
    "## 3. Stacking Ensemble Model\n",
    "Meta model is a Logistic Regression model. This model has the best accuracy of all models."
   ]
  },
  {
   "cell_type": "code",
   "execution_count": 97,
   "id": "ad3cb80b",
   "metadata": {},
   "outputs": [
    {
     "name": "stdout",
     "output_type": "stream",
     "text": [
      "model score: 0.910\n"
     ]
    }
   ],
   "source": [
    "## Stacking (cross-validation built-in)\n",
    "## Adapted from https://scikit-learn.org/stable/auto_examples/compose/plot_column_transformer_mixed_types.html\n",
    "## Code creates a pipline to scale the numeric data and one-hot-encode the categorical data.\n",
    "numeric_features = [\"duration\", \"F1\", \"F2\", \"F3\"]\n",
    "numeric_transformer = Pipeline(steps=[(\"imputer\", SimpleImputer(strategy=\"median\")),(\"scaler\", StandardScaler())])\n",
    "\n",
    "categorical_features = [\"nasal\", \"syllable_number\", \"onset_c_place\", \"onset_c_manner\", \"laryngeal\", \"coda\"]\n",
    "categorical_transformer = OneHotEncoder(handle_unknown=\"ignore\")\n",
    "\n",
    "preprocessor = ColumnTransformer(\n",
    "    transformers =[\n",
    "        (\"num\", numeric_transformer, numeric_features),\n",
    "        (\"cat\", categorical_transformer, categorical_features)\n",
    "    ])\n",
    "\n",
    "clf = Pipeline(\n",
    "    steps=[(\"preprocessor\", preprocessor), (\"classifier\", StackingClassifier(estimators=model_list, final_estimator=LogisticRegression()))])\n",
    "\n",
    "X_train, X_test, y_train, y_test = train_test_split(X, y, test_size=0.2, random_state=42)\n",
    "\n",
    "clf.fit(X_train, y_train)\n",
    "print(\"model score: %.3f\" % clf.score(X_test, y_test))"
   ]
  },
  {
   "cell_type": "code",
   "execution_count": 98,
   "id": "b785d978",
   "metadata": {},
   "outputs": [
    {
     "data": {
      "text/plain": [
       "array([[397,  50],\n",
       "       [ 42, 531]])"
      ]
     },
     "execution_count": 98,
     "metadata": {},
     "output_type": "execute_result"
    }
   ],
   "source": [
    "## Confusion Matrix\n",
    "y_pred = clf.predict(X_test)\n",
    "confusion_matrix(y_test, y_pred)"
   ]
  },
  {
   "cell_type": "code",
   "execution_count": 100,
   "id": "fa6754c5",
   "metadata": {},
   "outputs": [
    {
     "data": {
      "image/png": "[encoded data removed]",
      "text/plain": [
       "<Figure size 432x288 with 2 Axes>"
      ]
     },
     "metadata": {
      "needs_background": "light"
     },
     "output_type": "display_data"
    }
   ],
   "source": [
    "## Plot confusion matrix, code adapted from example here: https://scikit-learn.org/stable/modules/generated/sklearn.metrics.plot_confusion_matrix.html\n",
    "predictions = clf.predict(X_test)\n",
    "cm = confusion_matrix(y_test, predictions, labels=clf.classes_)\n",
    "disp = ConfusionMatrixDisplay(confusion_matrix=cm, display_labels=clf.classes_)\n",
    "disp.plot(cmap=plt.cm.Blues)\n",
    "plt.savefig('stacking_confusion_matrix.png')\n",
    "plt.show()"
   ]
  },
  {
   "cell_type": "code",
   "execution_count": null,
   "id": "2e57fc40",
   "metadata": {},
   "outputs": [],
   "source": []
  }
 ],
 "metadata": {
  "kernelspec": {
   "display_name": "Python [conda env:metis] *",
   "language": "python",
   "name": "conda-env-metis-py"
  },
  "language_info": {
   "codemirror_mode": {
    "name": "ipython",
    "version": 3
   },
   "file_extension": ".py",
   "mimetype": "text/x-python",
   "name": "python",
   "nbconvert_exporter": "python",
   "pygments_lexer": "ipython3",
   "version": "3.9.9"
  }
 },
 "nbformat": 4,
 "nbformat_minor": 5
}
